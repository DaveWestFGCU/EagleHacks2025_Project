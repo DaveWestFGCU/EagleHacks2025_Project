{
 "cells": [
  {
   "cell_type": "code",
   "id": "initial_id",
   "metadata": {
    "collapsed": true,
    "ExecuteTime": {
     "end_time": "2025-02-22T16:28:37.590629Z",
     "start_time": "2025-02-22T16:28:37.584415Z"
    }
   },
   "source": "from PIL import Image, ImageDraw, ImageFont",
   "outputs": [],
   "execution_count": 11
  },
  {
   "metadata": {
    "ExecuteTime": {
     "end_time": "2025-02-22T16:28:37.982987Z",
     "start_time": "2025-02-22T16:28:37.599072Z"
    }
   },
   "cell_type": "code",
   "source": [
    "# Open an existing image or create a new one\n",
    "image = Image.open(\"./api/input_image.jpg\")  # replace with your image file\n",
    "# Alternatively, create a new image:\n",
    "# image = Image.new(\"RGB\", (400, 300), color=\"white\")\n",
    "\n",
    "# Create an ImageDraw object\n",
    "draw = ImageDraw.Draw(image)\n",
    "\n",
    "# Define the text and its properties\n",
    "text = \"Hello, World!\"\n",
    "position = (50, 50)  # (x, y) coordinates\n",
    "fill_color = (255, 0, 0)  # red color in RGB\n",
    "\n",
    "# Optionally, load a custom font\n",
    "# Make sure the font file is accessible, and adjust the size as needed.\n",
    "try:\n",
    "    font = ImageFont.truetype(\"liberation-sans.ttf\", size=40)\n",
    "except IOError:\n",
    "    # Fallback to default font if the specified font is not available\n",
    "    font = ImageFont.load_default(size=40)\n",
    "\n",
    "# Add text to the image\n",
    "draw.text(position, text, fill=fill_color, font=font)\n",
    "\n",
    "# Save the edited image\n",
    "image.save(\"output_image.jpg\")\n",
    "\n",
    "# Optionally, display the image (for example, in a GUI environment)\n",
    "image.show()\n"
   ],
   "id": "3f0cbfd23f2afcd0",
   "outputs": [],
   "execution_count": 12
  }
 ],
 "metadata": {
  "kernelspec": {
   "display_name": "Python 3",
   "language": "python",
   "name": "python3"
  },
  "language_info": {
   "codemirror_mode": {
    "name": "ipython",
    "version": 2
   },
   "file_extension": ".py",
   "mimetype": "text/x-python",
   "name": "python",
   "nbconvert_exporter": "python",
   "pygments_lexer": "ipython2",
   "version": "2.7.6"
  }
 },
 "nbformat": 4,
 "nbformat_minor": 5
}
